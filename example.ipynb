{
 "cells": [
  {
   "attachments": {},
   "cell_type": "markdown",
   "metadata": {},
   "source": [
    "# This is a example notebook for loading the the GTX dataset."
   ]
  },
  {
   "cell_type": "code",
   "execution_count": 3,
   "metadata": {},
   "outputs": [],
   "source": [
    "from dataset import *\n",
    "import warnings\n",
    "warnings.filterwarnings('ignore')"
   ]
  },
  {
   "attachments": {},
   "cell_type": "markdown",
   "metadata": {},
   "source": [
    "## Tabular datasets \n",
    "Below are the sample codes to access the dataset objects. The files are large, which could take some time to load."
   ]
  },
  {
   "cell_type": "code",
   "execution_count": 5,
   "metadata": {},
   "outputs": [
    {
     "name": "stdout",
     "output_type": "stream",
     "text": [
      "x shape: (86,)\n",
      "y is: 0\n",
      "a shape: (86,)\n"
     ]
    }
   ],
   "source": [
    "hai = HAIDataset(contents=\"train\")\n",
    "x, y, a = hai[0] # x.shape = a.shape = (86,)\n",
    "print(f\"x shape: {x.shape}\")\n",
    "print(f\"y is: {y}\")\n",
    "print(f\"a shape: {a.shape}\")\n"
   ]
  },
  {
   "cell_type": "code",
   "execution_count": 6,
   "metadata": {},
   "outputs": [],
   "source": [
    "hai_slide = HAISlidingDataset(window_size=100, \n",
    "                              stride=1, \n",
    "                              contents=\"train\")\n",
    "x, y, a, l = hai_slide[0] # x.shape = a.shape = (99,86), l is the last timestamp in the window\n",
    "print(f\"x shape: {x.shape}\")\n",
    "print(f\"y is: {y}\")\n",
    "print(f\"a shape: {a.shape}\")\n",
    "print(f\"l shape: {a.shape}\")"
   ]
  },
  {
   "cell_type": "code",
   "execution_count": 2,
   "metadata": {},
   "outputs": [
    {
     "name": "stdout",
     "output_type": "stream",
     "text": [
      "x shape: (51,)\n",
      "y is: 0\n",
      "a shape: (51,)\n"
     ]
    }
   ],
   "source": [
    "swat = SWaTDataset(contents=\"train\")\n",
    "x, y, a = swat[0] # x.shape = a.shape = (51,)\n",
    "print(f\"x shape: {x.shape}\")\n",
    "print(f\"y is: {y}\")\n",
    "print(f\"a shape: {a.shape}\")"
   ]
  },
  {
   "cell_type": "code",
   "execution_count": 4,
   "metadata": {},
   "outputs": [
    {
     "name": "stdout",
     "output_type": "stream",
     "text": [
      "# of valid windows: 496701\n",
      "x shape: torch.Size([99, 51])\n",
      "y is: 0\n",
      "a shape: torch.Size([99, 51])\n",
      "l shape: torch.Size([99, 51])\n"
     ]
    }
   ],
   "source": [
    "swat_slide = SWaTSlidingDataset(window_size=100, \n",
    "                              stride=1, \n",
    "                              contents=\"train\")\n",
    "x, y, a, l = swat_slide[0] # x.shape = a.shape = (99,51), l is the last timestamp in the window\n",
    "print(f\"x shape: {x.shape}\")\n",
    "print(f\"y is: {y}\")\n",
    "print(f\"a shape: {a.shape}\")\n",
    "print(f\"l shape: {a.shape}\")"
   ]
  },
  {
   "cell_type": "code",
   "execution_count": 4,
   "metadata": {},
   "outputs": [
    {
     "name": "stdout",
     "output_type": "stream",
     "text": [
      "x shape: (127,)\n",
      "y is: 0.0\n",
      "a shape: (127,)\n"
     ]
    }
   ],
   "source": [
    "wadi = WADIDataset(contents=\"train\")\n",
    "x, y, a = wadi[0] # x.shape = a.shape = (127,)\n",
    "print(f\"x shape: {x.shape}\")\n",
    "print(f\"y is: {y}\")\n",
    "print(f\"a shape: {a.shape}\")"
   ]
  },
  {
   "cell_type": "code",
   "execution_count": 5,
   "metadata": {},
   "outputs": [],
   "source": [
    "wadi_slide = WADISlidingDataset(window_size=100, \n",
    "                              stride=1, \n",
    "                              contents=\"train\")\n",
    "x, y, a, l = wadi_slide[0] # x.shape = a.shape = (99,127), l is the last timestamp in the window\n",
    "print(f\"x shape: {x.shape}\")\n",
    "print(f\"y is: {y}\")\n",
    "print(f\"a shape: {a.shape}\")\n",
    "print(f\"l shape: {a.shape}\")"
   ]
  },
  {
   "cell_type": "code",
   "execution_count": null,
   "metadata": {},
   "outputs": [],
   "source": []
  }
 ],
 "metadata": {
  "kernelspec": {
   "display_name": "ae",
   "language": "python",
   "name": "python3"
  },
  "language_info": {
   "codemirror_mode": {
    "name": "ipython",
    "version": 3
   },
   "file_extension": ".py",
   "mimetype": "text/x-python",
   "name": "python",
   "nbconvert_exporter": "python",
   "pygments_lexer": "ipython3",
   "version": "3.10.11"
  },
  "orig_nbformat": 4
 },
 "nbformat": 4,
 "nbformat_minor": 2
}
