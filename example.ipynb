{
 "cells": [
  {
   "attachments": {},
   "cell_type": "markdown",
   "metadata": {},
   "source": [
    "# This is a example notebook for loading the the GTX dataset."
   ]
  },
  {
   "cell_type": "code",
   "execution_count": 3,
   "metadata": {},
   "outputs": [],
   "source": [
    "from datasets import *"
   ]
  },
  {
   "attachments": {},
   "cell_type": "markdown",
   "metadata": {},
   "source": [
    "## Time-series datasets \n",
    "Below are the sample codes to access the dataset objects and dataloaders. The files are large, which could take some time to load."
   ]
  },
  {
   "cell_type": "code",
   "execution_count": 22,
   "metadata": {},
   "outputs": [
    {
     "name": "stdout",
     "output_type": "stream",
     "text": [
      "loading cache from data/hai/cache/hai_W100_Ctrain_Llast.cache\n",
      "loading cache from data/hai/cache/hai_W100_Ctest_Llast.cache\n",
      "x shape: torch.Size([100, 86])\n",
      "y is: 1\n",
      "a shape: torch.Size([100, 86])\n"
     ]
    }
   ],
   "source": [
    "hai = get_data_bundle(\"hai\", window_size=100, stride=1, label_choice=\"last\")\n",
    "hai_train, hai_test = hai[\"train_dataset\"],  hai[\"test_dataset\"]\n",
    "hai_train_dataloader, hai_test_dataloader  = hai[\"train_dataloader\"], hai[\"test_dataloader\"]\n",
    "x, y, a = hai_train[0] # x.shape = a.shape = [100,86]\n",
    "print(f\"x shape: {x.shape}\")\n",
    "print(f\"y is: {y}\")\n",
    "print(f\"a shape: {a.shape}\")\n"
   ]
  },
  {
   "cell_type": "code",
   "execution_count": 5,
   "metadata": {},
   "outputs": [
    {
     "name": "stdout",
     "output_type": "stream",
     "text": [
      "# of train windows: 496701\n",
      "cached to data/swat/cache/swat_W100_Ctrain_Llast.cache\n",
      "# of test windows: 449622\n",
      "cached to data/swat/cache/swat_W100_Ctest_Llast.cache\n",
      "x shape: torch.Size([100, 51])\n",
      "y is: 1\n",
      "a shape: torch.Size([100, 51])\n"
     ]
    }
   ],
   "source": [
    "swat = get_data_bundle(\"swat\", window_size=100, stride=1, label_choice=\"last\")\n",
    "swat_train = swat['train_dataset']\n",
    "x, y, a = swat_train[0] # x.shape = a.shape = [100,51]\n",
    "print(f\"x shape: {x.shape}\")\n",
    "print(f\"y is: {y}\")\n",
    "print(f\"a shape: {a.shape}\")"
   ]
  },
  {
   "cell_type": "code",
   "execution_count": 6,
   "metadata": {},
   "outputs": [
    {
     "name": "stdout",
     "output_type": "stream",
     "text": [
      "# of train windows: 1209502\n",
      "cached to data/wadi/cache/wadi_W100_Ctrain_Llast.cache\n",
      "# of test windows: 172702\n",
      "cached to data/wadi/cache/wadi_W100_Ctest_Llast.cache\n",
      "x shape: torch.Size([100, 127])\n",
      "y is: 1\n",
      "a shape: torch.Size([100, 127])\n"
     ]
    }
   ],
   "source": [
    "wadi = get_data_bundle(\"wadi\", window_size=100, stride=1, label_choice=\"last\")\n",
    "wadi_train = wadi['train_dataset']\n",
    "x, y, a = wadi_train[0] # x.shape = a.shape = [100.127]\n",
    "print(f\"x shape: {x.shape}\")\n",
    "print(f\"y is: {y}\")\n",
    "print(f\"a shape: {a.shape}\")"
   ]
  },
  {
   "attachments": {},
   "cell_type": "markdown",
   "metadata": {},
   "source": [
    "## Image dataset"
   ]
  },
  {
   "cell_type": "code",
   "execution_count": 8,
   "metadata": {},
   "outputs": [
    {
     "name": "stdout",
     "output_type": "stream",
     "text": [
      "x shape: torch.Size([3, 256, 256])\n",
      "y is: 1\n",
      "a shape: torch.Size([1, 256, 256])\n"
     ]
    }
   ],
   "source": [
    "mvtec = get_data_bundle(\"mvtec\", categories=['hazelnut'])\n",
    "mvtec_train = mvtec['train_dataset']\n",
    "x, y, a = mvtec_train[0] # x.shape = [3, 256, 256] a.shape = [1, 256, 256]\n",
    "print(f\"x shape: {x.shape}\")\n",
    "print(f\"y is: {y}\")\n",
    "print(f\"a shape: {a.shape}\")"
   ]
  },
  {
   "attachments": {},
   "cell_type": "markdown",
   "metadata": {},
   "source": [
    "## Text dataset"
   ]
  },
  {
   "cell_type": "code",
   "execution_count": 20,
   "metadata": {},
   "outputs": [
    {
     "name": "stdout",
     "output_type": "stream",
     "text": [
      "loading cache from data/squad/cache/train_roberta-base_384.cache\n",
      "loading cache from data/squad/cache/test_roberta-base_384.cache\n",
      "x: <s>What percentage of Charleston's black population were free people of color?</s></s> The city also had a large class of free people of color. By 1860, 3,785 free people of color were in Charleston, nearly 18% of the city's black population, and 8% of the total population. Free people of color were far more likely to be of mixed racial background than slaves. Many were educated, practiced skilled crafts, and some even owned substantial property, including slaves. In 1790, they established the Brown Fellowship Society for mutual aid, initially as a burial society. It continued until 1945.</s><pad><pad><pad><pad><pad><pad><pad><pad><pad><pad><pad><pad><pad><pad><pad><pad><pad><pad><pad><pad><pad><pad><pad><pad><pad><pad><pad><pad><pad><pad><pad><pad><pad><pad><pad><pad><pad><pad><pad><pad><pad><pad><pad><pad><pad><pad><pad><pad><pad><pad><pad><pad><pad><pad><pad><pad><pad><pad><pad><pad><pad><pad><pad><pad><pad><pad><pad><pad><pad><pad><pad><pad><pad><pad><pad><pad><pad><pad><pad><pad><pad><pad><pad><pad><pad><pad><pad><pad><pad><pad><pad><pad><pad><pad><pad><pad><pad><pad><pad><pad><pad><pad><pad><pad><pad><pad><pad><pad><pad><pad><pad><pad><pad><pad><pad><pad><pad><pad><pad><pad><pad><pad><pad><pad><pad><pad><pad><pad><pad><pad><pad><pad><pad><pad><pad><pad><pad><pad><pad><pad><pad><pad><pad><pad><pad><pad><pad><pad><pad><pad><pad><pad><pad><pad><pad><pad><pad><pad><pad><pad><pad><pad><pad><pad><pad><pad><pad><pad><pad><pad><pad><pad><pad><pad><pad><pad><pad><pad><pad><pad><pad><pad><pad><pad><pad><pad><pad><pad><pad><pad><pad><pad><pad><pad><pad><pad><pad><pad><pad><pad><pad><pad><pad><pad><pad><pad><pad><pad><pad><pad><pad><pad><pad><pad><pad><pad><pad><pad><pad><pad><pad><pad><pad><pad><pad><pad><pad><pad><pad><pad><pad><pad><pad><pad><pad><pad><pad><pad><pad><pad><pad><pad><pad><pad><pad><pad><pad><pad><pad><pad><pad><pad><pad><pad><pad><pad><pad><pad><pad><pad><pad><pad>\n",
      "a:  18\n"
     ]
    }
   ],
   "source": [
    "squad = get_data_bundle(\"squad\")\n",
    "ret, roberta = squad[\"train_dataset\"], squad[\"tokenizer\"]\n",
    "# question_mask, context_mask = ret[6].bool(), (1-ret[6]).bool()\n",
    "x = roberta.decode(ret[0][0]) # context\n",
    "a = roberta.decode(ret[0][0][ret[0][3].item():ret[0][4].item()]) # answer\n",
    "print(f\"x: {x}\")\n",
    "print(f\"a: {a}\")"
   ]
  }
 ],
 "metadata": {
  "kernelspec": {
   "display_name": "ae",
   "language": "python",
   "name": "python3"
  },
  "language_info": {
   "codemirror_mode": {
    "name": "ipython",
    "version": 3
   },
   "file_extension": ".py",
   "mimetype": "text/x-python",
   "name": "python",
   "nbconvert_exporter": "python",
   "pygments_lexer": "ipython3",
   "version": "3.10.11"
  },
  "orig_nbformat": 4
 },
 "nbformat": 4,
 "nbformat_minor": 2
}
