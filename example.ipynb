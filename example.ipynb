{
 "cells": [
  {
   "attachments": {},
   "cell_type": "markdown",
   "metadata": {},
   "source": [
    "# This is a example notebook for loading the the GTX dataset."
   ]
  },
  {
   "cell_type": "code",
   "execution_count": 2,
   "metadata": {},
   "outputs": [
    {
     "name": "stderr",
     "output_type": "stream",
     "text": [
      "/home/xjiae/.conda/envs/hddds/lib/python3.10/site-packages/tqdm/auto.py:21: TqdmWarning: IProgress not found. Please update jupyter and ipywidgets. See https://ipywidgets.readthedocs.io/en/stable/user_install.html\n",
      "  from .autonotebook import tqdm as notebook_tqdm\n",
      "2023-06-13 15:32:38.109166: I tensorflow/core/platform/cpu_feature_guard.cc:182] This TensorFlow binary is optimized to use available CPU instructions in performance-critical operations.\n",
      "To enable the following instructions: SSE4.1 SSE4.2 AVX AVX2 AVX512F FMA, in other operations, rebuild TensorFlow with the appropriate compiler flags.\n"
     ]
    }
   ],
   "source": [
    "from datasets import *"
   ]
  },
  {
   "attachments": {},
   "cell_type": "markdown",
   "metadata": {},
   "source": [
    "## Time-series datasets \n",
    "Below are the sample codes to access the dataset objects and dataloaders. The files are large, which could take some time to load."
   ]
  },
  {
   "cell_type": "code",
   "execution_count": 13,
   "metadata": {},
   "outputs": [
    {
     "name": "stdout",
     "output_type": "stream",
     "text": [
      "loading cache from data/hai/cache/hai_W100_Ctrain_Llast.cache\n",
      "loading cache from data/hai/cache/hai_W100_Ctest_Llast.cache\n",
      "[HAI] x shape: torch.Size([32, 100, 86]) | y shape: torch.Size([32]) | a shape: torch.Size([32, 100, 86])\n"
     ]
    }
   ],
   "source": [
    "bundle = get_data_bundle(\"hai\", window_size=100, stride=1, train_batch_size=32, test_batch_size=32)\n",
    "train_dataset, test_dataset = bundle[\"train_dataset\"],  bundle[\"test_dataset\"]\n",
    "train_dataloader, test_dataloader  = bundle[\"train_dataloader\"], bundle[\"test_dataloader\"]\n",
    "x, y, a = next(iter(train_dataloader))\n",
    "print(f\"[HAI] x shape: {x.shape} | y shape: {y.shape} | a shape: {a.shape}\")"
   ]
  },
  {
   "cell_type": "code",
   "execution_count": 14,
   "metadata": {},
   "outputs": [
    {
     "name": "stdout",
     "output_type": "stream",
     "text": [
      "loading cache from data/swat/cache/swat_W100_Ctrain_Llast.cache\n",
      "loading cache from data/swat/cache/swat_W100_Ctest_Llast.cache\n",
      "[SWaT] x shape: torch.Size([32, 100, 51]) | y shape: torch.Size([32]) | a shape: torch.Size([32, 100, 51])\n"
     ]
    }
   ],
   "source": [
    "bundle = get_data_bundle(\"swat\", window_size=100, stride=1, train_batch_size=32, test_batch_size=32)\n",
    "train_dataset, test_dataset = bundle[\"train_dataset\"],  bundle[\"test_dataset\"]\n",
    "train_dataloader, test_dataloader  = bundle[\"train_dataloader\"], bundle[\"test_dataloader\"]\n",
    "x, y, a = next(iter(train_dataloader))\n",
    "print(f\"[SWaT] x shape: {x.shape} | y shape: {y.shape} | a shape: {a.shape}\")"
   ]
  },
  {
   "cell_type": "code",
   "execution_count": 15,
   "metadata": {},
   "outputs": [
    {
     "name": "stdout",
     "output_type": "stream",
     "text": [
      "loading cache from data/wadi/cache/wadi_W100_Ctrain_Llast.cache\n",
      "loading cache from data/wadi/cache/wadi_W100_Ctest_Llast.cache\n",
      "[WADI] x shape: torch.Size([32, 100, 127]) | y shape: torch.Size([32]) | a shape: torch.Size([32, 100, 127])\n"
     ]
    }
   ],
   "source": [
    "bundle = get_data_bundle(\"wadi\", window_size=100, stride=1, train_batch_size=32, test_batch_size=32)\n",
    "train_dataset, test_dataset = bundle[\"train_dataset\"],  bundle[\"test_dataset\"]\n",
    "train_dataloader, test_dataloader  = bundle[\"train_dataloader\"], bundle[\"test_dataloader\"]\n",
    "x, y, a = next(iter(train_dataloader))\n",
    "print(f\"[WADI] x shape: {x.shape} | y shape: {y.shape} | a shape: {a.shape}\")"
   ]
  },
  {
   "attachments": {},
   "cell_type": "markdown",
   "metadata": {},
   "source": [
    "## Image dataset"
   ]
  },
  {
   "cell_type": "code",
   "execution_count": 16,
   "metadata": {},
   "outputs": [
    {
     "name": "stdout",
     "output_type": "stream",
     "text": [
      "[MVTec] x shape: torch.Size([32, 3, 256, 256]) | y shape: torch.Size([32]) | a shape: torch.Size([32, 1, 256, 256])\n"
     ]
    }
   ],
   "source": [
    "bundle = get_data_bundle(\"mvtec\", categories=[\"hazelnut\"], train_batch_size=32, test_batch_size=32)\n",
    "train_dataset, test_dataset = bundle[\"train_dataset\"],  bundle[\"test_dataset\"]\n",
    "train_dataloader, test_dataloader  = bundle[\"train_dataloader\"], bundle[\"test_dataloader\"]\n",
    "x, y, a = next(iter(train_dataloader))\n",
    "print(f\"[MVTec] x shape: {x.shape} | y shape: {y.shape} | a shape: {a.shape}\")"
   ]
  },
  {
   "attachments": {},
   "cell_type": "markdown",
   "metadata": {},
   "source": [
    "## Text dataset"
   ]
  },
  {
   "cell_type": "code",
   "execution_count": 36,
   "metadata": {},
   "outputs": [
    {
     "name": "stdout",
     "output_type": "stream",
     "text": [
      "loading cache from data/squad/cache/train_roberta-base_384.cache\n",
      "loading cache from data/squad/cache/test_roberta-base_384.cache\n",
      "x: <s>What is the tallest mountain in Greece?</s></s> Greece is strategically located at the crossroads of Europe, Asia, and Africa. Situated on the southern tip of the Balkan peninsula, it shares land borders with Albania to the northwest, the Republic of Macedonia and Bulgaria to the north and Turkey to the northeast. Greece consists of nine geographic regions: Macedonia, Central Greece, the Peloponnese, Thessaly, Epirus, the Aegean Islands (including the Dodecanese and Cyclades), Thrace, Crete, and the Ionian Islands. The Aegean Sea lies to the east of the mainland, the Ionian Sea to the west, and the Mediterranean Sea to the south. Greece has the longest coastline on the Mediterranean Basin and the 11th longest coastline in the world at 13,676 km (8,498 mi) in length, featuring a vast number of islands, of which 227 are inhabited. Eighty percent of Greece is mountainous, with Mount Olympus being the highest peak at 2,918 metres (9,573 ft).</s><pad><pad><pad><pad><pad><pad><pad><pad><pad><pad><pad><pad><pad><pad><pad><pad><pad><pad><pad><pad><pad><pad><pad><pad><pad><pad><pad><pad><pad><pad><pad><pad><pad><pad><pad><pad><pad><pad><pad><pad><pad><pad><pad><pad><pad><pad><pad><pad><pad><pad><pad><pad><pad><pad><pad><pad><pad><pad><pad><pad><pad><pad><pad><pad><pad><pad><pad><pad><pad><pad><pad><pad><pad><pad><pad><pad><pad><pad><pad><pad><pad><pad><pad><pad><pad><pad><pad><pad><pad><pad><pad><pad><pad><pad><pad><pad><pad><pad><pad><pad><pad><pad><pad><pad><pad><pad><pad><pad><pad><pad><pad><pad><pad><pad><pad><pad><pad><pad><pad><pad><pad><pad><pad><pad><pad><pad><pad><pad><pad><pad><pad><pad><pad><pad><pad><pad><pad><pad><pad><pad><pad><pad><pad><pad><pad><pad><pad><pad><pad><pad><pad><pad><pad><pad><pad><pad><pad><pad><pad><pad><pad><pad><pad>\n",
      "a:  Mount Olympus\n"
     ]
    }
   ],
   "source": [
    "bundle = get_data_bundle(\"squad\", train_batch_size=16, test_batch_size=16)\n",
    "train_dataset, test_dataset = bundle[\"train_dataset\"],  bundle[\"test_dataset\"]\n",
    "train_dataloader, test_dataloader  = bundle[\"train_dataloader\"], bundle[\"test_dataloader\"]\n",
    "tokenizer = bundle[\"tokenizer\"]\n",
    "ret =  next(iter(train_dataloader))\n",
    "input_ids, attention_mask, token_type_ids, start_position, end_position = ret\n",
    "x = tokenizer.decode(input_ids[0]) # question+context\n",
    "a = tokenizer.decode(input_ids[0][start_position[0].item():end_position[0].item()+1]) # answer\n",
    "print(f\"x: {x}\")\n",
    "print(f\"a: {a}\")"
   ]
  },
  {
   "cell_type": "code",
   "execution_count": null,
   "metadata": {},
   "outputs": [],
   "source": []
  }
 ],
 "metadata": {
  "kernelspec": {
   "display_name": "ae",
   "language": "python",
   "name": "python3"
  },
  "language_info": {
   "codemirror_mode": {
    "name": "ipython",
    "version": 3
   },
   "file_extension": ".py",
   "mimetype": "text/x-python",
   "name": "python",
   "nbconvert_exporter": "python",
   "pygments_lexer": "ipython3",
   "version": "3.10.11"
  },
  "orig_nbformat": 4
 },
 "nbformat": 4,
 "nbformat_minor": 2
}
